{
 "cells": [
  {
   "cell_type": "markdown",
   "metadata": {},
   "source": [
    "## Attendance Data Cleaning"
   ]
  },
  {
   "cell_type": "markdown",
   "metadata": {},
   "source": [
    "* NBA Attendance data was copied by year into spreadsheets in an Excel file - attendance_data. \n",
    "* Using Excel, the data was separated into columns (attendance_data_col) for creating yearly csv files for merging and any further cleaning in Jupyter Notebook.\n",
    "* This dataset only covers regular season attendance.\n",
    "* The AVG attendance data is based on each team playing 41 games total"
   ]
  },
  {
   "cell_type": "code",
   "execution_count": 2,
   "metadata": {},
   "outputs": [],
   "source": [
    "#Loading libraries and dependencies\n",
    "import pandas as pd\n",
    "import os"
   ]
  },
  {
   "cell_type": "code",
   "execution_count": 3,
   "metadata": {},
   "outputs": [],
   "source": [
    "#Importing files\n",
    "attendance_2015 = pd.read_csv(\"Raw_Data/2015_attendance.csv\")\n",
    "attendance_2016 = pd.read_csv(\"Raw_Data/2016_attendance.csv\")\n",
    "attendance_2017 = pd.read_csv(\"Raw_Data/2017_attendance.csv\")\n",
    "attendance_2018 = pd.read_csv(\"Raw_Data/2018_attendance.csv\")\n",
    "attendance_2019 = pd.read_csv(\"Raw_Data/2019_attendance.csv\")"
   ]
  },
  {
   "cell_type": "code",
   "execution_count": 8,
   "metadata": {},
   "outputs": [
    {
     "data": {
      "text/html": [
       "<div>\n",
       "<style scoped>\n",
       "    .dataframe tbody tr th:only-of-type {\n",
       "        vertical-align: middle;\n",
       "    }\n",
       "\n",
       "    .dataframe tbody tr th {\n",
       "        vertical-align: top;\n",
       "    }\n",
       "\n",
       "    .dataframe thead th {\n",
       "        text-align: right;\n",
       "    }\n",
       "</style>\n",
       "<table border=\"1\" class=\"dataframe\">\n",
       "  <thead>\n",
       "    <tr style=\"text-align: right;\">\n",
       "      <th></th>\n",
       "      <th>Team</th>\n",
       "      <th>Home ATT</th>\n",
       "      <th>Home AVG</th>\n",
       "      <th>Road ATT</th>\n",
       "      <th>Road AVG</th>\n",
       "    </tr>\n",
       "  </thead>\n",
       "  <tbody>\n",
       "    <tr>\n",
       "      <th>0</th>\n",
       "      <td>Atlanta Hawks</td>\n",
       "      <td>713,909</td>\n",
       "      <td>17,412</td>\n",
       "      <td>720,873</td>\n",
       "      <td>17,582</td>\n",
       "    </tr>\n",
       "    <tr>\n",
       "      <th>1</th>\n",
       "      <td>Boston Celtics</td>\n",
       "      <td>721,350</td>\n",
       "      <td>17,594</td>\n",
       "      <td>727,404</td>\n",
       "      <td>17,742</td>\n",
       "    </tr>\n",
       "    <tr>\n",
       "      <th>2</th>\n",
       "      <td>Brooklyn Nets</td>\n",
       "      <td>698,529</td>\n",
       "      <td>17,037</td>\n",
       "      <td>739,614</td>\n",
       "      <td>18,039</td>\n",
       "    </tr>\n",
       "    <tr>\n",
       "      <th>3</th>\n",
       "      <td>Charlotte Hornets</td>\n",
       "      <td>704,886</td>\n",
       "      <td>17,192</td>\n",
       "      <td>723,833</td>\n",
       "      <td>17,654</td>\n",
       "    </tr>\n",
       "    <tr>\n",
       "      <th>4</th>\n",
       "      <td>Chicago Bulls</td>\n",
       "      <td>896,525</td>\n",
       "      <td>21,866</td>\n",
       "      <td>754,592</td>\n",
       "      <td>18,405</td>\n",
       "    </tr>\n",
       "  </tbody>\n",
       "</table>\n",
       "</div>"
      ],
      "text/plain": [
       "                Team Home ATT Home AVG Road ATT Road AVG\n",
       "0      Atlanta Hawks  713,909   17,412  720,873   17,582\n",
       "1     Boston Celtics  721,350   17,594  727,404   17,742\n",
       "2      Brooklyn Nets  698,529   17,037  739,614   18,039\n",
       "3  Charlotte Hornets  704,886   17,192  723,833   17,654\n",
       "4      Chicago Bulls  896,525   21,866  754,592   18,405"
      ]
     },
     "execution_count": 8,
     "metadata": {},
     "output_type": "execute_result"
    }
   ],
   "source": [
    "attendance_2015.head()"
   ]
  },
  {
   "cell_type": "code",
   "execution_count": 7,
   "metadata": {
    "scrolled": false
   },
   "outputs": [],
   "source": [
    "#Merging all the years into one datafram based on Team\n",
    "merge_15_16 = pd.merge(attendance_2015, attendance_2016, on=\"Team\", suffixes=(\" 2015\", \" 2016\"), how=\"outer\")\n",
    "add_2017 = pd.merge(merge_15_16, attendance_2017, on=\"Team\")\n",
    "add_2018 = pd.merge(add_2017, attendance_2018, on=\"Team\", suffixes=(\" 2017\", \" 2018\"), how=\"outer\")\n",
    "add_2019 = pd.merge(add_2018, attendance_2019, on=\"Team\", how=\"outer\")\n",
    "#Renaming the columns in the final merge\n",
    "all_years = add_2019.rename(columns={\"Home ATT\": \"Home ATT 2019\",\n",
    "                           \"Home AVG\": \"Home AVG 2019\",\n",
    "                           \"Road ATT\": \"Road ATT 2019\",\n",
    "                           \"Road AVG\": \"Road AVG 2019\",})"
   ]
  },
  {
   "cell_type": "code",
   "execution_count": 16,
   "metadata": {
    "scrolled": true
   },
   "outputs": [],
   "source": [
    "#Creating separate data frames for Home and Road Game Attendance\n",
    "home_attendance= all_years[[\"Team\",\"Home ATT 2015\", \"Home AVG 2015\", \"Home ATT 2016\", \"Home AVG 2016\", \"Home ATT 2017\", \"Home AVG 2017\", \"Home ATT 2018\", \"Home AVG 2018\", \"Home ATT 2019\", \"Home AVG 2019\"]]\n",
    "road_attendance = all_years[[\"Team\", \"Road ATT 2015\", \"Road AVG 2015\", \"Road ATT 2016\", \"Road AVG 2016\", \"Road ATT 2017\", \"Road AVG 2017\", \"Road ATT 2018\", \"Road AVG 2018\", \"Road ATT 2019\", \"Road AVG 2019\"]]\n",
    "#Exporting data to csv files\n",
    "home_attendance.to_csv(\"Cleaned_Data/home_attendance.csv\", index=False)\n",
    "road_attendance.to_csv(\"Cleaned_Data/road_attendance.csv\", index=False)"
   ]
  }
 ],
 "metadata": {
  "kernelspec": {
   "display_name": "Python 3",
   "language": "python",
   "name": "python3"
  },
  "language_info": {
   "codemirror_mode": {
    "name": "ipython",
    "version": 3
   },
   "file_extension": ".py",
   "mimetype": "text/x-python",
   "name": "python",
   "nbconvert_exporter": "python",
   "pygments_lexer": "ipython3",
   "version": "3.7.6"
  }
 },
 "nbformat": 4,
 "nbformat_minor": 4
}
