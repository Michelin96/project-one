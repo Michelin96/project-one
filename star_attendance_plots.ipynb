{
 "cells": [
  {
   "cell_type": "markdown",
   "metadata": {},
   "source": [
    "# Comparing Star Player Team vs No Star Player Attendance\n"
   ]
  },
  {
   "cell_type": "code",
   "execution_count": 55,
   "metadata": {},
   "outputs": [],
   "source": [
    "import pandas as pd\n",
    "import matplotlib.pyplot as plt\n",
    "import numpy as np\n",
    "import os"
   ]
  },
  {
   "cell_type": "code",
   "execution_count": 56,
   "metadata": {
    "scrolled": true
   },
   "outputs": [
    {
     "data": {
      "text/html": [
       "<div>\n",
       "<style scoped>\n",
       "    .dataframe tbody tr th:only-of-type {\n",
       "        vertical-align: middle;\n",
       "    }\n",
       "\n",
       "    .dataframe tbody tr th {\n",
       "        vertical-align: top;\n",
       "    }\n",
       "\n",
       "    .dataframe thead th {\n",
       "        text-align: right;\n",
       "    }\n",
       "</style>\n",
       "<table border=\"1\" class=\"dataframe\">\n",
       "  <thead>\n",
       "    <tr style=\"text-align: right;\">\n",
       "      <th></th>\n",
       "      <th>Team</th>\n",
       "      <th>Home AVG</th>\n",
       "    </tr>\n",
       "    <tr>\n",
       "      <th>Year</th>\n",
       "      <th></th>\n",
       "      <th></th>\n",
       "    </tr>\n",
       "  </thead>\n",
       "  <tbody>\n",
       "    <tr>\n",
       "      <th>2015</th>\n",
       "      <td>Atlanta Hawks</td>\n",
       "      <td>17412</td>\n",
       "    </tr>\n",
       "    <tr>\n",
       "      <th>2015</th>\n",
       "      <td>Boston Celtics</td>\n",
       "      <td>17594</td>\n",
       "    </tr>\n",
       "    <tr>\n",
       "      <th>2015</th>\n",
       "      <td>Charlotte Hornets</td>\n",
       "      <td>17192</td>\n",
       "    </tr>\n",
       "    <tr>\n",
       "      <th>2015</th>\n",
       "      <td>Chicago Bulls</td>\n",
       "      <td>21866</td>\n",
       "    </tr>\n",
       "    <tr>\n",
       "      <th>2015</th>\n",
       "      <td>Dallas Mavericks</td>\n",
       "      <td>20188</td>\n",
       "    </tr>\n",
       "    <tr>\n",
       "      <th>...</th>\n",
       "      <td>...</td>\n",
       "      <td>...</td>\n",
       "    </tr>\n",
       "    <tr>\n",
       "      <th>2019</th>\n",
       "      <td>Brooklyn Nets</td>\n",
       "      <td>14941</td>\n",
       "    </tr>\n",
       "    <tr>\n",
       "      <th>2019</th>\n",
       "      <td>New York Knicks</td>\n",
       "      <td>19002</td>\n",
       "    </tr>\n",
       "    <tr>\n",
       "      <th>2019</th>\n",
       "      <td>Philadelphia 76ers</td>\n",
       "      <td>20453</td>\n",
       "    </tr>\n",
       "    <tr>\n",
       "      <th>2019</th>\n",
       "      <td>Portland Trail Blazers</td>\n",
       "      <td>19496</td>\n",
       "    </tr>\n",
       "    <tr>\n",
       "      <th>2019</th>\n",
       "      <td>Sacramento Kings</td>\n",
       "      <td>17097</td>\n",
       "    </tr>\n",
       "  </tbody>\n",
       "</table>\n",
       "<p>83 rows × 2 columns</p>\n",
       "</div>"
      ],
      "text/plain": [
       "                        Team  Home AVG\n",
       "Year                                  \n",
       "2015           Atlanta Hawks     17412\n",
       "2015          Boston Celtics     17594\n",
       "2015       Charlotte Hornets     17192\n",
       "2015           Chicago Bulls     21866\n",
       "2015        Dallas Mavericks     20188\n",
       "...                      ...       ...\n",
       "2019           Brooklyn Nets     14941\n",
       "2019         New York Knicks     19002\n",
       "2019      Philadelphia 76ers     20453\n",
       "2019  Portland Trail Blazers     19496\n",
       "2019        Sacramento Kings     17097\n",
       "\n",
       "[83 rows x 2 columns]"
      ]
     },
     "execution_count": 56,
     "metadata": {},
     "output_type": "execute_result"
    }
   ],
   "source": [
    "#Importing files\n",
    "star_attendance = pd.read_csv(\"Cleaned_Data/star_team_attendance.csv\")\n",
    "no_star_attendance = pd.read_csv(\"Cleaned_Data/no_star_team_attendance.csv\")\n",
    "star_attendance.set_index(\"Year\")\n",
    "no_star_attendance.set_index(\"Year\")"
   ]
  },
  {
   "cell_type": "code",
   "execution_count": 57,
   "metadata": {
    "scrolled": false
   },
   "outputs": [],
   "source": [
    "stars_by_year = star_attendance.groupby(\"Year\").mean()\n",
    "no_stars_by_year = no_star_attendance.groupby(\"Year\").mean()"
   ]
  },
  {
   "cell_type": "code",
   "execution_count": 63,
   "metadata": {
    "scrolled": false
   },
   "outputs": [
    {
     "data": {
      "text/html": [
       "<div>\n",
       "<style scoped>\n",
       "    .dataframe tbody tr th:only-of-type {\n",
       "        vertical-align: middle;\n",
       "    }\n",
       "\n",
       "    .dataframe tbody tr th {\n",
       "        vertical-align: top;\n",
       "    }\n",
       "\n",
       "    .dataframe thead th {\n",
       "        text-align: right;\n",
       "    }\n",
       "</style>\n",
       "<table border=\"1\" class=\"dataframe\">\n",
       "  <thead>\n",
       "    <tr style=\"text-align: right;\">\n",
       "      <th></th>\n",
       "      <th>Home AVG Stars</th>\n",
       "      <th>Home AVG No Stars</th>\n",
       "    </tr>\n",
       "    <tr>\n",
       "      <th>Year</th>\n",
       "      <th></th>\n",
       "      <th></th>\n",
       "    </tr>\n",
       "  </thead>\n",
       "  <tbody>\n",
       "    <tr>\n",
       "      <th>2015</th>\n",
       "      <td>19037.142857</td>\n",
       "      <td>17457.695652</td>\n",
       "    </tr>\n",
       "    <tr>\n",
       "      <th>2016</th>\n",
       "      <td>19048.333333</td>\n",
       "      <td>17355.714286</td>\n",
       "    </tr>\n",
       "    <tr>\n",
       "      <th>2017</th>\n",
       "      <td>18227.111111</td>\n",
       "      <td>17656.608696</td>\n",
       "    </tr>\n",
       "    <tr>\n",
       "      <th>2018</th>\n",
       "      <td>18155.950000</td>\n",
       "      <td>17661.100000</td>\n",
       "    </tr>\n",
       "    <tr>\n",
       "      <th>2019</th>\n",
       "      <td>17873.416667</td>\n",
       "      <td>17727.666667</td>\n",
       "    </tr>\n",
       "  </tbody>\n",
       "</table>\n",
       "</div>"
      ],
      "text/plain": [
       "      Home AVG Stars  Home AVG No Stars\n",
       "Year                                   \n",
       "2015    19037.142857       17457.695652\n",
       "2016    19048.333333       17355.714286\n",
       "2017    18227.111111       17656.608696\n",
       "2018    18155.950000       17661.100000\n",
       "2019    17873.416667       17727.666667"
      ]
     },
     "execution_count": 63,
     "metadata": {},
     "output_type": "execute_result"
    }
   ],
   "source": [
    "comparing_attendance = pd.merge(stars_by_year, no_stars_by_year, on = \"Year\", suffixes= (\" Stars\", \" No Stars\"))\n",
    "comparing_attendance"
   ]
  },
  {
   "cell_type": "code",
   "execution_count": 64,
   "metadata": {},
   "outputs": [],
   "source": [
    "# plt.bar(stars_by_year[\"Year\"], stars_by_year[\"Home AVG\"], align=\"center\", color=\"red\", width =.5)\n",
    "# plt.xlim(-1, len(star[\"Year\"]))\n",
    "# # plt.ylim(500,25000)\n",
    "# plt.xlabel(\"Teams with a Star Player\", fontweight=\"black\") \n",
    "# plt.ylabel(\"Average Fan Attendnace\", fontweight=\"black\") \n",
    "# plt.title(\"NBA Regular Season Fan Attendnce \", fontweight=\"black\") \n",
    "# #Rotation and horizontal alligment of the team name labels\n",
    "# plt.xticks(rotation=30, ha='right')\n",
    "# # plt.legend()\n",
    "\n",
    "# # plt.tight_layout()\n",
    "# plt.show()"
   ]
  },
  {
   "cell_type": "code",
   "execution_count": null,
   "metadata": {},
   "outputs": [],
   "source": []
  }
 ],
 "metadata": {
  "kernelspec": {
   "display_name": "Python 3",
   "language": "python",
   "name": "python3"
  },
  "language_info": {
   "codemirror_mode": {
    "name": "ipython",
    "version": 3
   },
   "file_extension": ".py",
   "mimetype": "text/x-python",
   "name": "python",
   "nbconvert_exporter": "python",
   "pygments_lexer": "ipython3",
   "version": "3.7.6"
  }
 },
 "nbformat": 4,
 "nbformat_minor": 4
}
