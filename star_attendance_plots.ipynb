{
 "cells": [
  {
   "cell_type": "markdown",
   "metadata": {},
   "source": [
    "# Comparing Star Player Team vs No Star Player Attendance\n"
   ]
  },
  {
   "cell_type": "code",
   "execution_count": 115,
   "metadata": {},
   "outputs": [],
   "source": [
    "import pandas as pd\n",
    "import matplotlib.pyplot as plt\n",
    "import numpy as np\n",
    "import os"
   ]
  },
  {
   "cell_type": "code",
   "execution_count": 116,
   "metadata": {
    "scrolled": true
   },
   "outputs": [
    {
     "data": {
      "text/html": [
       "<div>\n",
       "<style scoped>\n",
       "    .dataframe tbody tr th:only-of-type {\n",
       "        vertical-align: middle;\n",
       "    }\n",
       "\n",
       "    .dataframe tbody tr th {\n",
       "        vertical-align: top;\n",
       "    }\n",
       "\n",
       "    .dataframe thead th {\n",
       "        text-align: right;\n",
       "    }\n",
       "</style>\n",
       "<table border=\"1\" class=\"dataframe\">\n",
       "  <thead>\n",
       "    <tr style=\"text-align: right;\">\n",
       "      <th></th>\n",
       "      <th>Team</th>\n",
       "      <th>Home AVG</th>\n",
       "      <th>Road AVG</th>\n",
       "    </tr>\n",
       "    <tr>\n",
       "      <th>Year</th>\n",
       "      <th></th>\n",
       "      <th></th>\n",
       "      <th></th>\n",
       "    </tr>\n",
       "  </thead>\n",
       "  <tbody>\n",
       "    <tr>\n",
       "      <th>2015</th>\n",
       "      <td>Atlanta Hawks</td>\n",
       "      <td>17412</td>\n",
       "      <td>17582</td>\n",
       "    </tr>\n",
       "    <tr>\n",
       "      <th>2015</th>\n",
       "      <td>Boston Celtics</td>\n",
       "      <td>17594</td>\n",
       "      <td>17742</td>\n",
       "    </tr>\n",
       "    <tr>\n",
       "      <th>2015</th>\n",
       "      <td>Charlotte Hornets</td>\n",
       "      <td>17192</td>\n",
       "      <td>17654</td>\n",
       "    </tr>\n",
       "    <tr>\n",
       "      <th>2015</th>\n",
       "      <td>Chicago Bulls</td>\n",
       "      <td>21866</td>\n",
       "      <td>18405</td>\n",
       "    </tr>\n",
       "    <tr>\n",
       "      <th>2015</th>\n",
       "      <td>Dallas Mavericks</td>\n",
       "      <td>20188</td>\n",
       "      <td>17653</td>\n",
       "    </tr>\n",
       "    <tr>\n",
       "      <th>...</th>\n",
       "      <td>...</td>\n",
       "      <td>...</td>\n",
       "      <td>...</td>\n",
       "    </tr>\n",
       "    <tr>\n",
       "      <th>2019</th>\n",
       "      <td>Brooklyn Nets</td>\n",
       "      <td>14941</td>\n",
       "      <td>18086</td>\n",
       "    </tr>\n",
       "    <tr>\n",
       "      <th>2019</th>\n",
       "      <td>New York Knicks</td>\n",
       "      <td>19002</td>\n",
       "      <td>17566</td>\n",
       "    </tr>\n",
       "    <tr>\n",
       "      <th>2019</th>\n",
       "      <td>Philadelphia 76ers</td>\n",
       "      <td>20453</td>\n",
       "      <td>17895</td>\n",
       "    </tr>\n",
       "    <tr>\n",
       "      <th>2019</th>\n",
       "      <td>Portland Trail Blazers</td>\n",
       "      <td>19496</td>\n",
       "      <td>17951</td>\n",
       "    </tr>\n",
       "    <tr>\n",
       "      <th>2019</th>\n",
       "      <td>Sacramento Kings</td>\n",
       "      <td>17097</td>\n",
       "      <td>17199</td>\n",
       "    </tr>\n",
       "  </tbody>\n",
       "</table>\n",
       "<p>83 rows × 3 columns</p>\n",
       "</div>"
      ],
      "text/plain": [
       "                        Team  Home AVG  Road AVG\n",
       "Year                                            \n",
       "2015           Atlanta Hawks     17412     17582\n",
       "2015          Boston Celtics     17594     17742\n",
       "2015       Charlotte Hornets     17192     17654\n",
       "2015           Chicago Bulls     21866     18405\n",
       "2015        Dallas Mavericks     20188     17653\n",
       "...                      ...       ...       ...\n",
       "2019           Brooklyn Nets     14941     18086\n",
       "2019         New York Knicks     19002     17566\n",
       "2019      Philadelphia 76ers     20453     17895\n",
       "2019  Portland Trail Blazers     19496     17951\n",
       "2019        Sacramento Kings     17097     17199\n",
       "\n",
       "[83 rows x 3 columns]"
      ]
     },
     "execution_count": 116,
     "metadata": {},
     "output_type": "execute_result"
    }
   ],
   "source": [
    "#Importing files\n",
    "star_attendance = pd.read_csv(\"Cleaned_Data/star_team_attendance.csv\")\n",
    "no_star_attendance = pd.read_csv(\"Cleaned_Data/no_star_team_attendance.csv\")\n",
    "star_attendance.set_index(\"Year\")\n",
    "no_star_attendance.set_index(\"Year\")"
   ]
  },
  {
   "cell_type": "code",
   "execution_count": 119,
   "metadata": {
    "scrolled": false
   },
   "outputs": [
    {
     "data": {
      "text/html": [
       "<div>\n",
       "<style scoped>\n",
       "    .dataframe tbody tr th:only-of-type {\n",
       "        vertical-align: middle;\n",
       "    }\n",
       "\n",
       "    .dataframe tbody tr th {\n",
       "        vertical-align: top;\n",
       "    }\n",
       "\n",
       "    .dataframe thead th {\n",
       "        text-align: right;\n",
       "    }\n",
       "</style>\n",
       "<table border=\"1\" class=\"dataframe\">\n",
       "  <thead>\n",
       "    <tr style=\"text-align: right;\">\n",
       "      <th></th>\n",
       "      <th>Home AVG</th>\n",
       "      <th>Road AVG</th>\n",
       "    </tr>\n",
       "    <tr>\n",
       "      <th>Year</th>\n",
       "      <th></th>\n",
       "      <th></th>\n",
       "    </tr>\n",
       "  </thead>\n",
       "  <tbody>\n",
       "    <tr>\n",
       "      <th>2015</th>\n",
       "      <td>19037.142857</td>\n",
       "      <td>18005.714286</td>\n",
       "    </tr>\n",
       "    <tr>\n",
       "      <th>2016</th>\n",
       "      <td>19048.333333</td>\n",
       "      <td>18288.888889</td>\n",
       "    </tr>\n",
       "    <tr>\n",
       "      <th>2017</th>\n",
       "      <td>18227.111111</td>\n",
       "      <td>18026.833333</td>\n",
       "    </tr>\n",
       "    <tr>\n",
       "      <th>2018</th>\n",
       "      <td>18155.950000</td>\n",
       "      <td>18051.000000</td>\n",
       "    </tr>\n",
       "    <tr>\n",
       "      <th>2019</th>\n",
       "      <td>17873.416667</td>\n",
       "      <td>17887.041667</td>\n",
       "    </tr>\n",
       "  </tbody>\n",
       "</table>\n",
       "</div>"
      ],
      "text/plain": [
       "          Home AVG      Road AVG\n",
       "Year                            \n",
       "2015  19037.142857  18005.714286\n",
       "2016  19048.333333  18288.888889\n",
       "2017  18227.111111  18026.833333\n",
       "2018  18155.950000  18051.000000\n",
       "2019  17873.416667  17887.041667"
      ]
     },
     "execution_count": 119,
     "metadata": {},
     "output_type": "execute_result"
    }
   ],
   "source": [
    "stars_by_year = star_attendance.groupby(\"Year\").mean()\n",
    "no_stars_by_year = no_star_attendance.groupby(\"Year\").mean()\n",
    "stars_by_year"
   ]
  },
  {
   "cell_type": "code",
   "execution_count": 118,
   "metadata": {
    "scrolled": true
   },
   "outputs": [
    {
     "data": {
      "text/html": [
       "<div>\n",
       "<style scoped>\n",
       "    .dataframe tbody tr th:only-of-type {\n",
       "        vertical-align: middle;\n",
       "    }\n",
       "\n",
       "    .dataframe tbody tr th {\n",
       "        vertical-align: top;\n",
       "    }\n",
       "\n",
       "    .dataframe thead th {\n",
       "        text-align: right;\n",
       "    }\n",
       "</style>\n",
       "<table border=\"1\" class=\"dataframe\">\n",
       "  <thead>\n",
       "    <tr style=\"text-align: right;\">\n",
       "      <th></th>\n",
       "      <th>Year</th>\n",
       "      <th>Home AVG Stars</th>\n",
       "      <th>Road AVG Stars</th>\n",
       "      <th>Home AVG No Stars</th>\n",
       "      <th>Road AVG No Stars</th>\n",
       "    </tr>\n",
       "  </thead>\n",
       "  <tbody>\n",
       "    <tr>\n",
       "      <th>0</th>\n",
       "      <td>2015</td>\n",
       "      <td>19037.142857</td>\n",
       "      <td>18005.714286</td>\n",
       "      <td>17457.695652</td>\n",
       "      <td>17771.608696</td>\n",
       "    </tr>\n",
       "    <tr>\n",
       "      <th>1</th>\n",
       "      <td>2016</td>\n",
       "      <td>19048.333333</td>\n",
       "      <td>18288.888889</td>\n",
       "      <td>17355.714286</td>\n",
       "      <td>17682.666667</td>\n",
       "    </tr>\n",
       "    <tr>\n",
       "      <th>2</th>\n",
       "      <td>2017</td>\n",
       "      <td>18227.111111</td>\n",
       "      <td>18026.833333</td>\n",
       "      <td>17656.608696</td>\n",
       "      <td>17816.391304</td>\n",
       "    </tr>\n",
       "    <tr>\n",
       "      <th>3</th>\n",
       "      <td>2018</td>\n",
       "      <td>18155.950000</td>\n",
       "      <td>18051.000000</td>\n",
       "      <td>17661.100000</td>\n",
       "      <td>17870.800000</td>\n",
       "    </tr>\n",
       "    <tr>\n",
       "      <th>4</th>\n",
       "      <td>2019</td>\n",
       "      <td>17873.416667</td>\n",
       "      <td>17887.041667</td>\n",
       "      <td>17727.666667</td>\n",
       "      <td>17747.166667</td>\n",
       "    </tr>\n",
       "  </tbody>\n",
       "</table>\n",
       "</div>"
      ],
      "text/plain": [
       "   Year  Home AVG Stars  Road AVG Stars  Home AVG No Stars  Road AVG No Stars\n",
       "0  2015    19037.142857    18005.714286       17457.695652       17771.608696\n",
       "1  2016    19048.333333    18288.888889       17355.714286       17682.666667\n",
       "2  2017    18227.111111    18026.833333       17656.608696       17816.391304\n",
       "3  2018    18155.950000    18051.000000       17661.100000       17870.800000\n",
       "4  2019    17873.416667    17887.041667       17727.666667       17747.166667"
      ]
     },
     "execution_count": 118,
     "metadata": {},
     "output_type": "execute_result"
    }
   ],
   "source": [
    "comparing_attendance = pd.merge(stars_by_year, no_stars_by_year, on = \"Year\", suffixes= (\" Stars\", \" No Stars\"))\n",
    "comparing_attendance = comparing_attendance.reset_index()\n",
    "comparing_attendance"
   ]
  },
  {
   "cell_type": "code",
   "execution_count": 112,
   "metadata": {},
   "outputs": [],
   "source": [
    "years = [year for year in comparing_attendance[\"Year\"]]\n",
    "stars = [atten for atten in comparing_attendance[\"Home AVG Stars\"]]\n",
    "no_stars = [atten for atten in comparing_attendance[\"Home AVG No Stars\"]]\n",
    "bar_sets = 5"
   ]
  },
  {
   "cell_type": "code",
   "execution_count": 114,
   "metadata": {
    "scrolled": true
   },
   "outputs": [
    {
     "data": {
      "image/png": "[encoded data removed]",
      "text/plain": [
       "<Figure size 432x288 with 1 Axes>"
      ]
     },
     "metadata": {
      "needs_background": "light"
     },
     "output_type": "display_data"
    }
   ],
   "source": [
    "fig, axes = plt.subplots()\n",
    "\n",
    "year = np.arange(bar_sets)    # the x locations for the groups\n",
    "width = 0.30         # the width of the bars\n",
    "p1 = axes.bar(year, stars, width, bottom=0, )\n",
    "\n",
    "p2 = axes.bar(year + width, no_stars, width, bottom=0)\n",
    "\n",
    "axes.set_title('Average Attendance vs Teams with High Paid Players')\n",
    "axes.set_xticks(year + width / 2)\n",
    "axes.set_xticklabels(years)\n",
    "\n",
    "axes.legend((p1[0], p2[0]), ('High Paid Players', 'No High Paid Players'))\n",
    "axes.autoscale_view()\n",
    "\n",
    "plt.show()"
   ]
  },
  {
   "cell_type": "code",
   "execution_count": null,
   "metadata": {},
   "outputs": [],
   "source": []
  }
 ],
 "metadata": {
  "kernelspec": {
   "display_name": "Python 3",
   "language": "python",
   "name": "python3"
  },
  "language_info": {
   "codemirror_mode": {
    "name": "ipython",
    "version": 3
   },
   "file_extension": ".py",
   "mimetype": "text/x-python",
   "name": "python",
   "nbconvert_exporter": "python",
   "pygments_lexer": "ipython3",
   "version": "3.7.6"
  }
 },
 "nbformat": 4,
 "nbformat_minor": 4
}
