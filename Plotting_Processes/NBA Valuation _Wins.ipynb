{
 "cells": [
  {
   "cell_type": "code",
   "execution_count": 1,
   "metadata": {},
   "outputs": [],
   "source": [
    "import pandas as pd\n",
    "import numpy as np\n",
    "import matplotlib.pyplot as plt\n"
   ]
  },
  {
   "cell_type": "code",
   "execution_count": 2,
   "metadata": {},
   "outputs": [],
   "source": [
    "# file_one = \"../Cleaned_Data/wins_data.csv\"\n",
    "# file_one_df = pd.read_csv(file_one)\n",
    "# rename_file_one_df = file_one_df.rename(columns={\"Unnamed: 0\": \"Team\", \"0\": \"2019\", \"1\": \"2018\", \"2\": \"2017\", \"3\": \"2016\", \"4\": \"2015\"})\n",
    "# clean_file_one_df = rename_file_one_df.drop(rename_file_one_df.index[0])\n",
    "# clean_file_one_df\n"
   ]
  },
  {
   "cell_type": "code",
   "execution_count": 3,
   "metadata": {},
   "outputs": [
    {
     "ename": "KeyError",
     "evalue": "\"None of [Index(['Team', '2019', '2018', '2017', '2016', '2015'], dtype='object')] are in the [columns]\"",
     "output_type": "error",
     "traceback": [
      "\u001b[0;31m---------------------------------------------------------------------------\u001b[0m",
      "\u001b[0;31mKeyError\u001b[0m                                  Traceback (most recent call last)",
      "\u001b[0;32m<ipython-input-3-049e20b50360>\u001b[0m in \u001b[0;36m<module>\u001b[0;34m\u001b[0m\n\u001b[1;32m      4\u001b[0m \u001b[0mrename_file_df\u001b[0m \u001b[0;34m=\u001b[0m \u001b[0mfile_two_df\u001b[0m\u001b[0;34m.\u001b[0m\u001b[0mrename\u001b[0m\u001b[0;34m(\u001b[0m\u001b[0mcolumns\u001b[0m\u001b[0;34m=\u001b[0m\u001b[0;34m{\u001b[0m\u001b[0;34m\"2015 Value\"\u001b[0m\u001b[0;34m:\u001b[0m \u001b[0;34m\"2015\"\u001b[0m\u001b[0;34m,\u001b[0m \u001b[0;34m\"2016 Value\"\u001b[0m\u001b[0;34m:\u001b[0m \u001b[0;34m\"2016\"\u001b[0m\u001b[0;34m,\u001b[0m \u001b[0;34m\"2017 Value\"\u001b[0m\u001b[0;34m:\u001b[0m \u001b[0;34m\"2017\"\u001b[0m\u001b[0;34m,\u001b[0m \u001b[0;34m\"2018 Value\"\u001b[0m\u001b[0;34m:\u001b[0m \u001b[0;34m\"2018\"\u001b[0m\u001b[0;34m,\u001b[0m \u001b[0;34m\"2019 Value\"\u001b[0m\u001b[0;34m:\u001b[0m \u001b[0;34m\"2019\"\u001b[0m\u001b[0;34m}\u001b[0m\u001b[0;34m)\u001b[0m\u001b[0;34m\u001b[0m\u001b[0;34m\u001b[0m\u001b[0m\n\u001b[1;32m      5\u001b[0m \u001b[0mrename_file_df\u001b[0m\u001b[0;34m\u001b[0m\u001b[0;34m\u001b[0m\u001b[0m\n\u001b[0;32m----> 6\u001b[0;31m \u001b[0mrename_file_df\u001b[0m \u001b[0;34m=\u001b[0m \u001b[0mrename_file_df\u001b[0m\u001b[0;34m[\u001b[0m\u001b[0;34m[\u001b[0m\u001b[0;34m\"Team\"\u001b[0m\u001b[0;34m,\u001b[0m\u001b[0;34m\"2019\"\u001b[0m\u001b[0;34m,\u001b[0m \u001b[0;34m\"2018\"\u001b[0m\u001b[0;34m,\u001b[0m \u001b[0;34m\"2017\"\u001b[0m\u001b[0;34m,\u001b[0m \u001b[0;34m\"2016\"\u001b[0m\u001b[0;34m,\u001b[0m \u001b[0;34m\"2015\"\u001b[0m\u001b[0;34m]\u001b[0m\u001b[0;34m]\u001b[0m\u001b[0;34m\u001b[0m\u001b[0;34m\u001b[0m\u001b[0m\n\u001b[0m\u001b[1;32m      7\u001b[0m \u001b[0mrename_file_df\u001b[0m\u001b[0;34m\u001b[0m\u001b[0;34m\u001b[0m\u001b[0m\n\u001b[1;32m      8\u001b[0m \u001b[0msort_file_two_df\u001b[0m \u001b[0;34m=\u001b[0m \u001b[0mrename_file_df\u001b[0m\u001b[0;34m.\u001b[0m\u001b[0msort_values\u001b[0m\u001b[0;34m(\u001b[0m\u001b[0mby\u001b[0m\u001b[0;34m=\u001b[0m\u001b[0;34m[\u001b[0m\u001b[0;34m\"2019\"\u001b[0m\u001b[0;34m]\u001b[0m\u001b[0;34m,\u001b[0m \u001b[0mascending\u001b[0m\u001b[0;34m=\u001b[0m\u001b[0;32mFalse\u001b[0m\u001b[0;34m)\u001b[0m\u001b[0;34m\u001b[0m\u001b[0;34m\u001b[0m\u001b[0m\n",
      "\u001b[0;32m~/opt/anaconda3/lib/python3.7/site-packages/pandas/core/frame.py\u001b[0m in \u001b[0;36m__getitem__\u001b[0;34m(self, key)\u001b[0m\n\u001b[1;32m   2804\u001b[0m             \u001b[0;32mif\u001b[0m \u001b[0mis_iterator\u001b[0m\u001b[0;34m(\u001b[0m\u001b[0mkey\u001b[0m\u001b[0;34m)\u001b[0m\u001b[0;34m:\u001b[0m\u001b[0;34m\u001b[0m\u001b[0;34m\u001b[0m\u001b[0m\n\u001b[1;32m   2805\u001b[0m                 \u001b[0mkey\u001b[0m \u001b[0;34m=\u001b[0m \u001b[0mlist\u001b[0m\u001b[0;34m(\u001b[0m\u001b[0mkey\u001b[0m\u001b[0;34m)\u001b[0m\u001b[0;34m\u001b[0m\u001b[0;34m\u001b[0m\u001b[0m\n\u001b[0;32m-> 2806\u001b[0;31m             \u001b[0mindexer\u001b[0m \u001b[0;34m=\u001b[0m \u001b[0mself\u001b[0m\u001b[0;34m.\u001b[0m\u001b[0mloc\u001b[0m\u001b[0;34m.\u001b[0m\u001b[0m_get_listlike_indexer\u001b[0m\u001b[0;34m(\u001b[0m\u001b[0mkey\u001b[0m\u001b[0;34m,\u001b[0m \u001b[0maxis\u001b[0m\u001b[0;34m=\u001b[0m\u001b[0;36m1\u001b[0m\u001b[0;34m,\u001b[0m \u001b[0mraise_missing\u001b[0m\u001b[0;34m=\u001b[0m\u001b[0;32mTrue\u001b[0m\u001b[0;34m)\u001b[0m\u001b[0;34m[\u001b[0m\u001b[0;36m1\u001b[0m\u001b[0;34m]\u001b[0m\u001b[0;34m\u001b[0m\u001b[0;34m\u001b[0m\u001b[0m\n\u001b[0m\u001b[1;32m   2807\u001b[0m \u001b[0;34m\u001b[0m\u001b[0m\n\u001b[1;32m   2808\u001b[0m         \u001b[0;31m# take() does not accept boolean indexers\u001b[0m\u001b[0;34m\u001b[0m\u001b[0;34m\u001b[0m\u001b[0;34m\u001b[0m\u001b[0m\n",
      "\u001b[0;32m~/opt/anaconda3/lib/python3.7/site-packages/pandas/core/indexing.py\u001b[0m in \u001b[0;36m_get_listlike_indexer\u001b[0;34m(self, key, axis, raise_missing)\u001b[0m\n\u001b[1;32m   1550\u001b[0m \u001b[0;34m\u001b[0m\u001b[0m\n\u001b[1;32m   1551\u001b[0m         self._validate_read_indexer(\n\u001b[0;32m-> 1552\u001b[0;31m             \u001b[0mkeyarr\u001b[0m\u001b[0;34m,\u001b[0m \u001b[0mindexer\u001b[0m\u001b[0;34m,\u001b[0m \u001b[0mo\u001b[0m\u001b[0;34m.\u001b[0m\u001b[0m_get_axis_number\u001b[0m\u001b[0;34m(\u001b[0m\u001b[0maxis\u001b[0m\u001b[0;34m)\u001b[0m\u001b[0;34m,\u001b[0m \u001b[0mraise_missing\u001b[0m\u001b[0;34m=\u001b[0m\u001b[0mraise_missing\u001b[0m\u001b[0;34m\u001b[0m\u001b[0;34m\u001b[0m\u001b[0m\n\u001b[0m\u001b[1;32m   1553\u001b[0m         )\n\u001b[1;32m   1554\u001b[0m         \u001b[0;32mreturn\u001b[0m \u001b[0mkeyarr\u001b[0m\u001b[0;34m,\u001b[0m \u001b[0mindexer\u001b[0m\u001b[0;34m\u001b[0m\u001b[0;34m\u001b[0m\u001b[0m\n",
      "\u001b[0;32m~/opt/anaconda3/lib/python3.7/site-packages/pandas/core/indexing.py\u001b[0m in \u001b[0;36m_validate_read_indexer\u001b[0;34m(self, key, indexer, axis, raise_missing)\u001b[0m\n\u001b[1;32m   1637\u001b[0m             \u001b[0;32mif\u001b[0m \u001b[0mmissing\u001b[0m \u001b[0;34m==\u001b[0m \u001b[0mlen\u001b[0m\u001b[0;34m(\u001b[0m\u001b[0mindexer\u001b[0m\u001b[0;34m)\u001b[0m\u001b[0;34m:\u001b[0m\u001b[0;34m\u001b[0m\u001b[0;34m\u001b[0m\u001b[0m\n\u001b[1;32m   1638\u001b[0m                 \u001b[0maxis_name\u001b[0m \u001b[0;34m=\u001b[0m \u001b[0mself\u001b[0m\u001b[0;34m.\u001b[0m\u001b[0mobj\u001b[0m\u001b[0;34m.\u001b[0m\u001b[0m_get_axis_name\u001b[0m\u001b[0;34m(\u001b[0m\u001b[0maxis\u001b[0m\u001b[0;34m)\u001b[0m\u001b[0;34m\u001b[0m\u001b[0;34m\u001b[0m\u001b[0m\n\u001b[0;32m-> 1639\u001b[0;31m                 \u001b[0;32mraise\u001b[0m \u001b[0mKeyError\u001b[0m\u001b[0;34m(\u001b[0m\u001b[0;34mf\"None of [{key}] are in the [{axis_name}]\"\u001b[0m\u001b[0;34m)\u001b[0m\u001b[0;34m\u001b[0m\u001b[0;34m\u001b[0m\u001b[0m\n\u001b[0m\u001b[1;32m   1640\u001b[0m \u001b[0;34m\u001b[0m\u001b[0m\n\u001b[1;32m   1641\u001b[0m             \u001b[0;31m# We (temporarily) allow for some missing keys with .loc, except in\u001b[0m\u001b[0;34m\u001b[0m\u001b[0;34m\u001b[0m\u001b[0;34m\u001b[0m\u001b[0m\n",
      "\u001b[0;31mKeyError\u001b[0m: \"None of [Index(['Team', '2019', '2018', '2017', '2016', '2015'], dtype='object')] are in the [columns]\""
     ]
    }
   ],
   "source": [
    "file_two = \"../Cleaned_Data/NBA_Valuations.csv\"\n",
    "file_two_df = pd.read_csv(file_two)\n",
    "file_two_df\n",
    "rename_file_df = file_two_df.rename(columns={\"2015 Value\": \"2015\", \"2016 Value\": \"2016\", \"2017 Value\": \"2017\", \"2018 Value\": \"2018\", \"2019 Value\": \"2019\"})\n",
    "rename_file_df\n",
    "rename_file_df = rename_file_df[[\"Team\",\"2019\", \"2018\", \"2017\", \"2016\", \"2015\"]]\n",
    "rename_file_df\n",
    "sort_file_two_df = rename_file_df.sort_values(by=[\"2019\"], ascending=False)\n",
    "sort_file_two_df\n",
    "high_value_teams = sort_file_two_df.reset_index().drop([\"index\"], axis= 1)\n",
    "high_value_teams.head()"
   ]
  },
  {
   "cell_type": "code",
   "execution_count": null,
   "metadata": {},
   "outputs": [],
   "source": [
    "teams = high_value_teams.head()[\"Team\"]\n",
    "values =[ 4000000000, 3700000000, 3500000000, 2900000000, 2800000000]\n",
    "x_axis = [\"Knicks\", \"Lakers\", \"Warriors\", \"Bulls\", \"Celtics\"]\n",
    "\n",
    "plt.bar(x_axis, values, color=\"blue\", align=\"center\")\n",
    "tick_locations = [value for value in x_axis]\n",
    "plt.xticks(tick_locations, x_axis)\n",
    "plt.xlim(-0.75, len(x_axis)-0.25)\n",
    "\n",
    "plt.title(\"Top 5 Most Valuable NBA Teams 2019\")\n",
    "plt.xlabel(\"Teams\")\n",
    "plt.ylabel(\"Value in Billions\")\n",
    "\n",
    "plt.savefig(\"../Plots/Most_Valuable_NBA_Teams.png\")\n",
    "plt.show()"
   ]
  },
  {
   "cell_type": "code",
   "execution_count": null,
   "metadata": {},
   "outputs": [],
   "source": [
    "low_teams_df = rename_file_df.sort_values(by=[\"2019\"], ascending=True)\n",
    "low_teams_df\n",
    "low_value_teams = low_teams_df.reset_index().drop([\"index\"], axis= 1)\n",
    "low_value_teams.head()"
   ]
  },
  {
   "cell_type": "code",
   "execution_count": null,
   "metadata": {},
   "outputs": [],
   "source": [
    "teams = low_value_teams.head()[\"Team\"]\n",
    "values =[ 1200000000, 1220000000, 1250000000, 1260000000, 1270000000]\n",
    "x_axis =[\"Grizzlies\", \"Pelicans\", \"Hornets\", \"Timberwolves\", \"Pistons\"]\n",
    "\n",
    "plt.bar(x_axis, values, color=\"red\", align=\"center\")\n",
    "tick_locations = [value for value in x_axis]\n",
    "plt.xticks(tick_locations, x_axis)\n",
    "plt.xlim(-0.75, len(x_axis)-0.25)\n",
    "\n",
    "plt.title(\"Bottom 5 Least Valuable NBA Teams 2019\")\n",
    "plt.xlabel(\"Teams\")\n",
    "plt.ylabel(\"Value in Billions\")\n",
    "\n",
    "plt.savefig(\"../Plots/Least_Valuable_NBA_Teams.png\")\n",
    "plt.show()"
   ]
  },
  {
   "cell_type": "code",
   "execution_count": null,
   "metadata": {},
   "outputs": [],
   "source": [
    "season = [\"2015\", \"2016\", \"2017\", \"2018\", \"2019\"]\n",
    "x_axis = season\n",
    "LAL_wins = [21,17,26,35,37]\n",
    "NY_wins = [17,32,31,29,17]\n",
    "CHI_wins = [50,42,41,47,22]\n",
    "GS_wins = [67,73,67,58,57]\n",
    "BOS_wins = [40,48,53,55,49]\n",
    "           \n",
    "df = pd.DataFrame({\"Lakers\": LAL_wins, \"Knicks\": NY_wins, \"Bulls\": CHI_wins, \"Celtics\": BOS_wins, \"Warriors\" :GS_wins})\n",
    "plt.plot(x_axis, \"Lakers\", data=df, marker =\"o\", color=\"purple\")\n",
    "plt.plot(x_axis, \"Knicks\", data=df, marker =\"o\", color=\"blue\")\n",
    "plt.plot(x_axis, \"Bulls\", data=df, marker =\"o\", color=\"red\")\n",
    "plt.plot(x_axis, \"Celtics\", data=df, marker =\"o\", color=\"green\")\n",
    "plt.plot(x_axis, \"Warriors\", data=df, marker =\"o\", color=\"yellow\")\n",
    "\n",
    "plt.title(\"Wins by Top 5 Most Valuable NBA Teams\")\n",
    "plt.xlabel(\"Season\")\n",
    "plt.ylabel(\"Wins\")\n",
    "plt.grid()\n",
    "plt.tight_layout\n",
    "plt.legend(loc=\"best\")\n",
    "\n",
    "plt.savefig(\"../Plots/Wins_Most_Valuable_NBA_Teams.png\")\n",
    "plt.show()"
   ]
  },
  {
   "cell_type": "code",
   "execution_count": null,
   "metadata": {},
   "outputs": [],
   "source": [
    "season = [\"2015\", \"2016\", \"2017\", \"2018\", \"2019\"]\n",
    "x_axis = season\n",
    "MEM_wins = [55,42,43,22,33]\n",
    "NO_wins = [45,30,34,48,33]\n",
    "CHA_wins = [33,48,36,36,39]\n",
    "MIN_wins = [16,29,31,47,36]\n",
    "DET_wins = [32,44,37,39,41]\n",
    "           \n",
    "df = pd.DataFrame({\"Grizzlies\": MEM_wins, \"Pelicans\": NO_wins, \"Hornets\": CHA_wins, \"Timberwolves\": MIN_wins, \"Pistons\" :DET_wins})\n",
    "plt.plot(x_axis, \"Grizzlies\", data=df, marker =\"o\", color=\"purple\")\n",
    "plt.plot(x_axis, \"Pelicans\", data=df, marker =\"o\", color=\"blue\")\n",
    "plt.plot(x_axis, \"Hornets\", data=df, marker =\"o\", color=\"green\")\n",
    "plt.plot(x_axis, \"Timberwolves\", data=df, marker =\"o\", color=\"black\")\n",
    "plt.plot(x_axis, \"Pistons\", data=df, marker =\"o\", color=\"red\")\n",
    "\n",
    "plt.title(\"Wins by Bottom 5 Least Valuable NBA Teams\")\n",
    "plt.xlabel(\"Season\")\n",
    "plt.ylabel(\"Wins\")\n",
    "plt.grid()\n",
    "plt.tight_layout\n",
    "plt.legend(loc=\"best\")\n",
    "\n",
    "plt.savefig(\"../Plots/Wins_Least_Valuable_NBA_Teams.png\")\n",
    "plt.show()"
   ]
  },
  {
   "cell_type": "code",
   "execution_count": null,
   "metadata": {},
   "outputs": [],
   "source": []
  }
 ],
 "metadata": {
  "kernelspec": {
   "display_name": "Python 3",
   "language": "python",
   "name": "python3"
  },
  "language_info": {
   "codemirror_mode": {
    "name": "ipython",
    "version": 3
   },
   "file_extension": ".py",
   "mimetype": "text/x-python",
   "name": "python",
   "nbconvert_exporter": "python",
   "pygments_lexer": "ipython3",
   "version": "3.7.6"
  }
 },
 "nbformat": 4,
 "nbformat_minor": 4
}
