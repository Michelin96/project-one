{
 "cells": [
  {
   "cell_type": "markdown",
   "metadata": {},
   "source": [
    "#  Combining Star and Attendance Data"
   ]
  },
  {
   "cell_type": "markdown",
   "metadata": {},
   "source": [
    "* It was noted that attendance is difficult to normalize because statudim sizes may differ significantly. In light of that, the average attendance over the 41 regular season games was used. "
   ]
  },
  {
   "cell_type": "code",
   "execution_count": 44,
   "metadata": {},
   "outputs": [],
   "source": [
    "import pandas as pd\n",
    "import matplotlib.pyplot as plt\n",
    "import numpy as np\n",
    "import os"
   ]
  },
  {
   "cell_type": "code",
   "execution_count": 45,
   "metadata": {},
   "outputs": [],
   "source": [
    "#Importing files\n",
    "salary15_data = pd.read_csv(\"Cleaned_Data/salary2014-15.csv\")\n",
    "salary16_data = pd.read_csv(\"Cleaned_Data/salary2015-16.csv\")\n",
    "salary17_data = pd.read_csv(\"Cleaned_Data/salary2016-17.csv\")\n",
    "salary18_data = pd.read_csv(\"Cleaned_Data/salary2017-18.csv\")\n",
    "salary19_data = pd.read_csv(\"Cleaned_Data/salary2018-19.csv\")\n",
    "attendance_2015 = pd.read_csv(\"Cleaned_Data/2015_attendance.csv\")\n",
    "attendance_2016 = pd.read_csv(\"Cleaned_Data/2016_attendance.csv\")\n",
    "attendance_2017 = pd.read_csv(\"Cleaned_Data/2017_attendance.csv\")\n",
    "attendance_2018 = pd.read_csv(\"Cleaned_Data/2018_attendance.csv\")\n",
    "attendance_2019 = pd.read_csv(\"Cleaned_Data/2019_attendance.csv\")\n",
    "home_attendance = pd.read_csv(\"Cleaned_Data/home_attendance.csv\")\n",
    "road_attendance = pd.read_csv(\"Cleaned_Data/road_attendance.csv\")\n",
    "all_years_attendance = pd.read_csv(\"Cleaned_Data/all_years_attendance.csv\")"
   ]
  },
  {
   "cell_type": "code",
   "execution_count": 46,
   "metadata": {},
   "outputs": [],
   "source": [
    "#Creating a function that returns a list of attendance for teams with star players\n",
    "def stars_attendance(att_data, star_list):\n",
    "    star_team = []\n",
    "    star_att = []\n",
    "\n",
    "    #Find the teams that have a star(s) and make a list of those teams and the attendenace\n",
    "    for index, row in att_data.iterrows():\n",
    "        for player, team in star_list.iterrows():\n",
    "            if (team[\"Team\"] == row[\"Team\"]) & (row[\"Team\"] not in star_team):\n",
    "                star_team.append(row[\"Team\"])\n",
    "                star_att.append(row[\"Home AVG\"])\n",
    "                \n",
    "    #Make a dataframe and return it to use for plotting   \n",
    "    stars_attendance = pd.DataFrame({'Team':star_team,'Home AVG': star_att})\n",
    "    return stars_attendance"
   ]
  },
  {
   "cell_type": "code",
   "execution_count": 47,
   "metadata": {},
   "outputs": [],
   "source": [
    "#Creating a function that returns a list of attendance for teams with no star players\n",
    "def no_stars_attendance(att_data, star_list):\n",
    "    star_team = []\n",
    "    no_star_att = []\n",
    "    no_star_team = []\n",
    "    \n",
    "    #Make a list of the teams with star players to compare to the list with no star players\n",
    "    for player, team in star_list.iterrows():\n",
    "            if team[\"Team\"] not in star_team:\n",
    "                star_team.append(team[\"Team\"])\n",
    "              \n",
    "    #Find the teams that have do not have a star(s) and make a list of those teams and the attendenace           \n",
    "    for index, row in att_data.iterrows():\n",
    "        if row[\"Team\"] not in star_team:\n",
    "            no_star_team.append(row[\"Team\"])\n",
    "            no_star_att.append(row[\"Home AVG\"])\n",
    "            \n",
    "    #Make a dataframe and return it to use for plotting   \n",
    "    no_stars_attendance = pd.DataFrame({'Team': no_star_team,'Home AVG': no_star_att})\n",
    "    return no_stars_attendance"
   ]
  },
  {
   "cell_type": "code",
   "execution_count": 48,
   "metadata": {
    "scrolled": true
   },
   "outputs": [
    {
     "data": {
      "text/html": [
       "<div>\n",
       "<style scoped>\n",
       "    .dataframe tbody tr th:only-of-type {\n",
       "        vertical-align: middle;\n",
       "    }\n",
       "\n",
       "    .dataframe tbody tr th {\n",
       "        vertical-align: top;\n",
       "    }\n",
       "\n",
       "    .dataframe thead th {\n",
       "        text-align: right;\n",
       "    }\n",
       "</style>\n",
       "<table border=\"1\" class=\"dataframe\">\n",
       "  <thead>\n",
       "    <tr style=\"text-align: right;\">\n",
       "      <th></th>\n",
       "      <th>Team</th>\n",
       "      <th>Home AVG</th>\n",
       "      <th>Year</th>\n",
       "    </tr>\n",
       "  </thead>\n",
       "  <tbody>\n",
       "    <tr>\n",
       "      <th>0</th>\n",
       "      <td>Brooklyn Nets</td>\n",
       "      <td>17037</td>\n",
       "      <td>2015</td>\n",
       "    </tr>\n",
       "    <tr>\n",
       "      <th>1</th>\n",
       "      <td>Cleveland Cavaliers</td>\n",
       "      <td>20562</td>\n",
       "      <td>2015</td>\n",
       "    </tr>\n",
       "    <tr>\n",
       "      <th>2</th>\n",
       "      <td>Houston Rockets</td>\n",
       "      <td>18230</td>\n",
       "      <td>2015</td>\n",
       "    </tr>\n",
       "    <tr>\n",
       "      <th>3</th>\n",
       "      <td>Los Angeles Clippers</td>\n",
       "      <td>19168</td>\n",
       "      <td>2015</td>\n",
       "    </tr>\n",
       "    <tr>\n",
       "      <th>4</th>\n",
       "      <td>Los Angeles Lakers</td>\n",
       "      <td>18738</td>\n",
       "      <td>2015</td>\n",
       "    </tr>\n",
       "    <tr>\n",
       "      <th>5</th>\n",
       "      <td>Miami Heat</td>\n",
       "      <td>19713</td>\n",
       "      <td>2015</td>\n",
       "    </tr>\n",
       "    <tr>\n",
       "      <th>6</th>\n",
       "      <td>New York Knicks</td>\n",
       "      <td>19812</td>\n",
       "      <td>2015</td>\n",
       "    </tr>\n",
       "  </tbody>\n",
       "</table>\n",
       "</div>"
      ],
      "text/plain": [
       "                   Team  Home AVG  Year\n",
       "0         Brooklyn Nets     17037  2015\n",
       "1   Cleveland Cavaliers     20562  2015\n",
       "2       Houston Rockets     18230  2015\n",
       "3  Los Angeles Clippers     19168  2015\n",
       "4    Los Angeles Lakers     18738  2015\n",
       "5            Miami Heat     19713  2015\n",
       "6       New York Knicks     19812  2015"
      ]
     },
     "execution_count": 48,
     "metadata": {},
     "output_type": "execute_result"
    }
   ],
   "source": [
    "#Creating a list for each year of attendance for teams with star players\n",
    "stars_attendance_2015 = stars_attendance(attendance_2015, salary15_data)\n",
    "stars_attendance_2015[\"Year\"]= \"2015\"\n",
    "stars_attendance_2016 = stars_attendance(attendance_2016, salary16_data)\n",
    "stars_attendance_2016[\"Year\"]= \"2016\"\n",
    "stars_attendance_2017 = stars_attendance(attendance_2017, salary17_data)\n",
    "stars_attendance_2017[\"Year\"]= \"2017\"\n",
    "stars_attendance_2018 = stars_attendance(attendance_2018, salary18_data)\n",
    "stars_attendance_2018[\"Year\"]= \"2018\"\n",
    "stars_attendance_2019 = stars_attendance(attendance_2019, salary19_data)\n",
    "stars_attendance_2019[\"Year\"]= \"2019\"\n",
    "stars_attendance_2015"
   ]
  },
  {
   "cell_type": "code",
   "execution_count": 49,
   "metadata": {},
   "outputs": [],
   "source": [
    "#Creating a list for each year of attendance for teams with no star players\n",
    "no_stars_attendance_2015 = no_stars_attendance(attendance_2015, salary15_data)\n",
    "no_stars_attendance_2015[\"Year\"]= \"2015\"\n",
    "no_stars_attendance_2016 = no_stars_attendance(attendance_2016, salary16_data)\n",
    "no_stars_attendance_2016[\"Year\"]= \"2016\"\n",
    "no_stars_attendance_2017 = no_stars_attendance(attendance_2017, salary15_data)\n",
    "no_stars_attendance_2017[\"Year\"]= \"2017\"\n",
    "no_stars_attendance_2018 = no_stars_attendance(attendance_2018, salary18_data)\n",
    "no_stars_attendance_2018[\"Year\"]= \"2018\"\n",
    "no_stars_attendance_2019 = no_stars_attendance(attendance_2019, salary19_data)\n",
    "no_stars_attendance_2019[\"Year\"]= \"2019\""
   ]
  },
  {
   "cell_type": "code",
   "execution_count": 50,
   "metadata": {
    "scrolled": true
   },
   "outputs": [],
   "source": [
    "#Appending each year of star player team attendance to make a five year list \n",
    "year2015_2016 = stars_attendance_2015.append(stars_attendance_2016)\n",
    "added_2017 = year2015_2016.append(stars_attendance_2017)\n",
    "added_2018 = added_2017.append(stars_attendance_2018)\n",
    "star_team_attendance = added_2018.append(stars_attendance_2019)"
   ]
  },
  {
   "cell_type": "code",
   "execution_count": 51,
   "metadata": {},
   "outputs": [
    {
     "name": "stdout",
     "output_type": "stream",
     "text": [
      "<class 'pandas.core.frame.DataFrame'>\n",
      "Int64Index: 83 entries, 0 to 5\n",
      "Data columns (total 3 columns):\n",
      " #   Column    Non-Null Count  Dtype \n",
      "---  ------    --------------  ----- \n",
      " 0   Team      83 non-null     object\n",
      " 1   Home AVG  83 non-null     int64 \n",
      " 2   Year      83 non-null     object\n",
      "dtypes: int64(1), object(2)\n",
      "memory usage: 2.6+ KB\n"
     ]
    }
   ],
   "source": [
    "#Appending each year of no star player team attendance to make a five year list \n",
    "year2015_2016 = no_stars_attendance_2015.append(no_stars_attendance_2016)\n",
    "added_2017 = year2015_2016.append(no_stars_attendance_2017)\n",
    "added_2018 = added_2017.append(no_stars_attendance_2018)\n",
    "no_star_team_attendance = added_2018.append(no_stars_attendance_2019)\n",
    "no_star_team_attendance.info()"
   ]
  },
  {
   "cell_type": "code",
   "execution_count": 52,
   "metadata": {},
   "outputs": [],
   "source": [
    "#Exporting data to csv files\n",
    "star_team_attendance.to_csv(\"Cleaned_Data/star_team_attendance.csv\", index=False, header=True)\n",
    "no_star_team_attendance.to_csv(\"Cleaned_Data/no_star_team_attendance.csv\", index=False, header=True)"
   ]
  },
  {
   "cell_type": "code",
   "execution_count": null,
   "metadata": {},
   "outputs": [],
   "source": []
  }
 ],
 "metadata": {
  "kernelspec": {
   "display_name": "Python 3",
   "language": "python",
   "name": "python3"
  },
  "language_info": {
   "codemirror_mode": {
    "name": "ipython",
    "version": 3
   },
   "file_extension": ".py",
   "mimetype": "text/x-python",
   "name": "python",
   "nbconvert_exporter": "python",
   "pygments_lexer": "ipython3",
   "version": "3.7.6"
  }
 },
 "nbformat": 4,
 "nbformat_minor": 4
}
