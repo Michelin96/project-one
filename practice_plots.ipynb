{
 "cells": [
  {
   "cell_type": "markdown",
   "metadata": {},
   "source": [
    "#  Preliminary Plotting"
   ]
  },
  {
   "cell_type": "markdown",
   "metadata": {},
   "source": [
    "* It was noted that attendance is difficult to normalize because statudim sizes may differ significantly. In light of that, the average attendance over the 41 regular season games was used. "
   ]
  },
  {
   "cell_type": "code",
   "execution_count": 93,
   "metadata": {},
   "outputs": [],
   "source": [
    "import pandas as pd\n",
    "import matplotlib.pyplot as plt\n",
    "import numpy as np\n",
    "import os"
   ]
  },
  {
   "cell_type": "code",
   "execution_count": 94,
   "metadata": {},
   "outputs": [],
   "source": [
    "#Importing files\n",
    "salary15_data = pd.read_csv(\"Cleaned_Data/salary2014-15.csv\")\n",
    "salary16_data = pd.read_csv(\"Cleaned_Data/salary2015-16.csv\")\n",
    "salary17_data = pd.read_csv(\"Cleaned_Data/salary2016-17.csv\")\n",
    "salary18_data = pd.read_csv(\"Cleaned_Data/salary2017-18.csv\")\n",
    "salary19_data = pd.read_csv(\"Cleaned_Data/salary2018-19.csv\")\n",
    "attendance_2015 = pd.read_csv(\"Cleaned_Data/2015_attendance.csv\")\n",
    "attendance_2016 = pd.read_csv(\"Cleaned_Data/2016_attendance.csv\")\n",
    "attendance_2017 = pd.read_csv(\"Cleaned_Data/2017_attendance.csv\")\n",
    "attendance_2018 = pd.read_csv(\"Cleaned_Data/2018_attendance.csv\")\n",
    "attendance_2019 = pd.read_csv(\"Cleaned_Data/2019_attendance.csv\")"
   ]
  },
  {
   "cell_type": "code",
   "execution_count": 95,
   "metadata": {
    "scrolled": false
   },
   "outputs": [
    {
     "data": {
      "text/html": [
       "<div>\n",
       "<style scoped>\n",
       "    .dataframe tbody tr th:only-of-type {\n",
       "        vertical-align: middle;\n",
       "    }\n",
       "\n",
       "    .dataframe tbody tr th {\n",
       "        vertical-align: top;\n",
       "    }\n",
       "\n",
       "    .dataframe thead th {\n",
       "        text-align: right;\n",
       "    }\n",
       "</style>\n",
       "<table border=\"1\" class=\"dataframe\">\n",
       "  <thead>\n",
       "    <tr style=\"text-align: right;\">\n",
       "      <th></th>\n",
       "      <th>Rank</th>\n",
       "      <th>Player</th>\n",
       "      <th>Salary</th>\n",
       "      <th>Team</th>\n",
       "      <th>Team Code</th>\n",
       "    </tr>\n",
       "  </thead>\n",
       "  <tbody>\n",
       "    <tr>\n",
       "      <th>0</th>\n",
       "      <td>1</td>\n",
       "      <td>Kobe Bryant</td>\n",
       "      <td>$23,500,000</td>\n",
       "      <td>Los Angeles Lakers</td>\n",
       "      <td>LAL</td>\n",
       "    </tr>\n",
       "    <tr>\n",
       "      <th>1</th>\n",
       "      <td>2</td>\n",
       "      <td>Joe Johnson</td>\n",
       "      <td>$23,180,790</td>\n",
       "      <td>Brooklyn Nets</td>\n",
       "      <td>BRK</td>\n",
       "    </tr>\n",
       "    <tr>\n",
       "      <th>2</th>\n",
       "      <td>3</td>\n",
       "      <td>Carmelo Anthony</td>\n",
       "      <td>$22,458,401</td>\n",
       "      <td>New York Knicks</td>\n",
       "      <td>NYK</td>\n",
       "    </tr>\n",
       "    <tr>\n",
       "      <th>3</th>\n",
       "      <td>4</td>\n",
       "      <td>Amare Stoudemire</td>\n",
       "      <td>$21,896,658</td>\n",
       "      <td>New York Knicks</td>\n",
       "      <td>NYK</td>\n",
       "    </tr>\n",
       "    <tr>\n",
       "      <th>4</th>\n",
       "      <td>5</td>\n",
       "      <td>Dwight Howard</td>\n",
       "      <td>$21,436,271</td>\n",
       "      <td>Houston Rockets</td>\n",
       "      <td>HOU</td>\n",
       "    </tr>\n",
       "  </tbody>\n",
       "</table>\n",
       "</div>"
      ],
      "text/plain": [
       "   Rank            Player        Salary                Team Team Code\n",
       "0     1       Kobe Bryant  $23,500,000   Los Angeles Lakers       LAL\n",
       "1     2       Joe Johnson  $23,180,790        Brooklyn Nets       BRK\n",
       "2     3   Carmelo Anthony  $22,458,401      New York Knicks       NYK\n",
       "3     4  Amare Stoudemire  $21,896,658      New York Knicks       NYK\n",
       "4     5     Dwight Howard  $21,436,271      Houston Rockets       HOU"
      ]
     },
     "execution_count": 95,
     "metadata": {},
     "output_type": "execute_result"
    }
   ],
   "source": [
    "salary15_data.head()"
   ]
  },
  {
   "cell_type": "code",
   "execution_count": 96,
   "metadata": {
    "scrolled": true
   },
   "outputs": [
    {
     "data": {
      "text/html": [
       "<div>\n",
       "<style scoped>\n",
       "    .dataframe tbody tr th:only-of-type {\n",
       "        vertical-align: middle;\n",
       "    }\n",
       "\n",
       "    .dataframe tbody tr th {\n",
       "        vertical-align: top;\n",
       "    }\n",
       "\n",
       "    .dataframe thead th {\n",
       "        text-align: right;\n",
       "    }\n",
       "</style>\n",
       "<table border=\"1\" class=\"dataframe\">\n",
       "  <thead>\n",
       "    <tr style=\"text-align: right;\">\n",
       "      <th></th>\n",
       "      <th>Team</th>\n",
       "      <th>Home ATT</th>\n",
       "      <th>Home AVG</th>\n",
       "      <th>Road ATT</th>\n",
       "      <th>Road AVG</th>\n",
       "    </tr>\n",
       "  </thead>\n",
       "  <tbody>\n",
       "    <tr>\n",
       "      <th>0</th>\n",
       "      <td>Atlanta Hawks</td>\n",
       "      <td>713,909</td>\n",
       "      <td>17,412</td>\n",
       "      <td>720,873</td>\n",
       "      <td>17,582</td>\n",
       "    </tr>\n",
       "    <tr>\n",
       "      <th>1</th>\n",
       "      <td>Boston Celtics</td>\n",
       "      <td>721,350</td>\n",
       "      <td>17,594</td>\n",
       "      <td>727,404</td>\n",
       "      <td>17,742</td>\n",
       "    </tr>\n",
       "    <tr>\n",
       "      <th>2</th>\n",
       "      <td>Brooklyn Nets</td>\n",
       "      <td>698,529</td>\n",
       "      <td>17,037</td>\n",
       "      <td>739,614</td>\n",
       "      <td>18,039</td>\n",
       "    </tr>\n",
       "    <tr>\n",
       "      <th>3</th>\n",
       "      <td>Charlotte Hornets</td>\n",
       "      <td>704,886</td>\n",
       "      <td>17,192</td>\n",
       "      <td>723,833</td>\n",
       "      <td>17,654</td>\n",
       "    </tr>\n",
       "    <tr>\n",
       "      <th>4</th>\n",
       "      <td>Chicago Bulls</td>\n",
       "      <td>896,525</td>\n",
       "      <td>21,866</td>\n",
       "      <td>754,592</td>\n",
       "      <td>18,405</td>\n",
       "    </tr>\n",
       "  </tbody>\n",
       "</table>\n",
       "</div>"
      ],
      "text/plain": [
       "                Team Home ATT Home AVG Road ATT Road AVG\n",
       "0      Atlanta Hawks  713,909   17,412  720,873   17,582\n",
       "1     Boston Celtics  721,350   17,594  727,404   17,742\n",
       "2      Brooklyn Nets  698,529   17,037  739,614   18,039\n",
       "3  Charlotte Hornets  704,886   17,192  723,833   17,654\n",
       "4      Chicago Bulls  896,525   21,866  754,592   18,405"
      ]
     },
     "execution_count": 96,
     "metadata": {},
     "output_type": "execute_result"
    }
   ],
   "source": [
    "attendance_2015.head()"
   ]
  },
  {
   "cell_type": "code",
   "execution_count": 98,
   "metadata": {},
   "outputs": [],
   "source": [
    "#Creating a function that returns a list of attendance for teams with star players\n",
    "def stars_attendance(att_data, star_list):\n",
    "    star_team = []\n",
    "    star_att = []\n",
    "\n",
    "    #Find the teams that have a star(s) and make a list of those teams and the attendenace\n",
    "    for index, row in att_data.iterrows():\n",
    "        for player, team in star_list.iterrows():\n",
    "            if (team[\"Team\"] == row[\"Team\"]) & (row[\"Team\"] not in star_team):\n",
    "                star_team.append(row[\"Team\"])\n",
    "                star_att.append(row[\"Home AVG\"])\n",
    "    stars_attendance = pd.DataFrame({'Team':star_team,'Home AVG': star_att})\n",
    "    return stars_attendance"
   ]
  },
  {
   "cell_type": "code",
   "execution_count": 106,
   "metadata": {},
   "outputs": [],
   "source": [
    "#Creating a function that returns a list of attendance for teams with no star players\n",
    "def no_stars_attendance(att_data, star_list):\n",
    "    star_team = []\n",
    "    no_star_att = []\n",
    "    no_star_team = []  \n",
    "    \n",
    "    #Make a list of the teams with star players to compare to the list with no star players\n",
    "    for player, team in star_list.iterrows():\n",
    "            if team[\"Team\"] not in star_team:\n",
    "                star_team.append(team[\"Team\"])\n",
    "              \n",
    "    #Find the teams that have do not have a star(s) and make a list of those teams and the attendenace           \n",
    "    for index, row in att_data.iterrows():\n",
    "        if row[\"Team\"] not in star_team:\n",
    "            no_star_team.append(row[\"Team\"])\n",
    "            no_star_att.append(row[\"Home AVG\"])\n",
    "            \n",
    "    no_stars_attendance = pd.DataFrame({'Team': no_star_team,'Home AVG': no_star_att})\n",
    "    return no_stars_attendance"
   ]
  },
  {
   "cell_type": "code",
   "execution_count": 109,
   "metadata": {},
   "outputs": [],
   "source": [
    "#Creating a list for each year of attendance for teams with star players\n",
    "stars_attendance_2015 = stars_attendance(attendance_2015, salary15_data)\n",
    "stars_attendance_2016 = stars_attendance(attendance_2016, salary16_data)\n",
    "stars_attendance_2017 = stars_attendance(attendance_2017, salary15_data)\n",
    "stars_attendance_2018 = stars_attendance(attendance_2018, salary18_data)\n",
    "stars_attendance_2019 = stars_attendance(attendance_2015, salary19_data)"
   ]
  },
  {
   "cell_type": "code",
   "execution_count": 110,
   "metadata": {},
   "outputs": [],
   "source": [
    "#Creating a list for each year of attendance for teams with no star players\n",
    "no_stars_attendance_2015 = no_stars_attendance(attendance_2015, salary15_data)\n",
    "no_stars_attendance_2016 = no_stars_attendance(attendance_2016, salary16_data)\n",
    "no_stars_attendance_2017 = no_stars_attendance(attendance_2017, salary15_data)\n",
    "no_stars_attendance_2018 = no_stars_attendance(attendance_2018, salary18_data)\n",
    "no_stars_attendance_2019 = no_stars_attendance(attendance_2019, salary19_data)"
   ]
  },
  {
   "cell_type": "code",
   "execution_count": null,
   "metadata": {},
   "outputs": [],
   "source": []
  }
 ],
 "metadata": {
  "kernelspec": {
   "display_name": "Python 3",
   "language": "python",
   "name": "python3"
  },
  "language_info": {
   "codemirror_mode": {
    "name": "ipython",
    "version": 3
   },
   "file_extension": ".py",
   "mimetype": "text/x-python",
   "name": "python",
   "nbconvert_exporter": "python",
   "pygments_lexer": "ipython3",
   "version": "3.7.6"
  }
 },
 "nbformat": 4,
 "nbformat_minor": 4
}
